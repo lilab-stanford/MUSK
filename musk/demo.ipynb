{
 "cells": [
  {
   "cell_type": "code",
   "execution_count": 1,
   "metadata": {},
   "outputs": [
    {
     "name": "stderr",
     "output_type": "stream",
     "text": [
      "/home/cheng/.local/lib/python3.10/site-packages/tqdm/auto.py:21: TqdmWarning: IProgress not found. Please update jupyter and ipywidgets. See https://ipywidgets.readthedocs.io/en/stable/user_install.html\n",
      "  from .autonotebook import tqdm as notebook_tqdm\n"
     ]
    }
   ],
   "source": [
    "import torch\n",
    "from timm.models import create_model\n",
    "import utils\n",
    "from PIL import Image\n",
    "from transformers import XLMRobertaTokenizer\n",
    "from timm.data.constants import IMAGENET_INCEPTION_MEAN, IMAGENET_INCEPTION_STD\n",
    "import torchvision\n",
    "import modeling\n",
    "\n",
    "\n",
    "def xlm_tokenizer(tokens, tokenizer, max_len=100):\n",
    "    tokens = tokenizer.encode(tokens)\n",
    "\n",
    "    tokens = tokens[1:-1]  # remove eos and bos;\n",
    "    if len(tokens) > max_len - 2:\n",
    "        tokens = tokens[:max_len - 2]\n",
    "\n",
    "    tokens = [tokenizer.bos_token_id] + tokens[:] + [tokenizer.eos_token_id]\n",
    "    num_tokens = len(tokens)\n",
    "    padding_mask = [0] * num_tokens + [1] * (max_len - num_tokens)\n",
    "\n",
    "    text_tokens = tokens + [tokenizer.pad_token_id] * (max_len - num_tokens)\n",
    "    return text_tokens, padding_mask\n"
   ]
  },
  {
   "cell_type": "code",
   "execution_count": 2,
   "metadata": {},
   "outputs": [
    {
     "name": "stdout",
     "output_type": "stream",
     "text": [
      "Load ckpt from ./models/musk.pth\n",
      "tensor([[0.3784, 0.3250, 0.2964]], device='cuda:0', dtype=torch.float16)\n"
     ]
    }
   ],
   "source": [
    "device = torch.device(\"cuda:0\")\n",
    "\n",
    "# >>>>>>>>>>>> load model >>>>>>>>>>>> #\n",
    "model_config = \"musk_large_patch16_384\"\n",
    "model = create_model(model_config, vocab_size=64010).eval()\n",
    "model_path = \"./models/musk.pth\"\n",
    "utils.load_model_and_may_interpolate(model_path, model, 'model|module', '')\n",
    "model.to(device, dtype=torch.float16)\n",
    "model.eval()\n",
    "# <<<<<<<<<<<< load model <<<<<<<<<<<< #\n",
    "\n",
    "# >>>>>>>>>>>> process image >>>>>>>>>>> #\n",
    "# load an image and process it\n",
    "img_size = 384\n",
    "transform = torchvision.transforms.Compose([\n",
    "    torchvision.transforms.Resize(img_size, interpolation=3, antialias=True),\n",
    "    torchvision.transforms.CenterCrop((img_size, img_size)),\n",
    "    torchvision.transforms.ToTensor(),\n",
    "    torchvision.transforms.Normalize(mean=IMAGENET_INCEPTION_MEAN, std=IMAGENET_INCEPTION_STD)\n",
    "])\n",
    "\n",
    "img = Image.open('./assets/lungaca1014.jpeg').convert(\"RGB\")  # input image\n",
    "img_tensor = transform(img).unsqueeze(0)\n",
    "with torch.inference_mode():\n",
    "    image_embeddings = model(\n",
    "        image=img_tensor.to(device, dtype=torch.float16),\n",
    "        with_head=True, \n",
    "        out_norm=True\n",
    "        )[0]  # return (vision_cls, text_cls)\n",
    "# <<<<<<<<<<< process image <<<<<<<<<<< #\n",
    "\n",
    "# >>>>>>>>>>> process language >>>>>>>>> #\n",
    "# load tokenzier for language input\n",
    "tokenizer = XLMRobertaTokenizer(\"./models/tokenizer.spm\")\n",
    "labels = [\"lung adenocarcinoma\",\n",
    "            \"benign lung tissue\",\n",
    "            \"lung squamous cell carcinoma\"]\n",
    "\n",
    "texts = ['histopathology image of ' + item for item in labels]\n",
    "text_ids = []\n",
    "paddings = []\n",
    "for txt in texts:\n",
    "    txt_ids, pad = xlm_tokenizer(txt, tokenizer, max_len=64)\n",
    "    text_ids.append(torch.tensor(txt_ids).unsqueeze(0))\n",
    "    paddings.append(torch.tensor(pad).unsqueeze(0))\n",
    "\n",
    "text_ids = torch.cat(text_ids)\n",
    "paddings = torch.cat(paddings)\n",
    "with torch.inference_mode():\n",
    "    text_embeddings = model(\n",
    "        text_description=text_ids.to(device),\n",
    "        padding_mask=paddings.to(device),\n",
    "        with_head=True, \n",
    "        out_norm=True\n",
    "    )[1]  # return (vision_cls, text_cls)\n",
    "# <<<<<<<<<<<< process language <<<<<<<<<<< #\n",
    "\n",
    "# >>>>>>>>>>>>> calculate similarity >>>>>>> #\n",
    "with torch.inference_mode():\n",
    "    # expected prob:[0.3784, 0.3250, 0.2964]  --> lung adenocarcinoma\n",
    "    sim = model.logit_scale * image_embeddings @ text_embeddings.T\n",
    "    prob = sim.softmax(dim=-1)\n",
    "    print(prob)"
   ]
  }
 ],
 "metadata": {
  "kernelspec": {
   "display_name": "Python 3",
   "language": "python",
   "name": "python3"
  },
  "language_info": {
   "codemirror_mode": {
    "name": "ipython",
    "version": 3
   },
   "file_extension": ".py",
   "mimetype": "text/x-python",
   "name": "python",
   "nbconvert_exporter": "python",
   "pygments_lexer": "ipython3",
   "version": "3.10.14"
  }
 },
 "nbformat": 4,
 "nbformat_minor": 2
}
