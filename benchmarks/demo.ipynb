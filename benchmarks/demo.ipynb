{
 "cells": [
  {
   "cell_type": "code",
   "execution_count": 1,
   "metadata": {},
   "outputs": [],
   "source": [
    "import json\n",
    "import os\n",
    "import subprocess\n",
    "os.environ[\"CUDA_VISIBLE_DEVICES\"] = \"1\"\n",
    "\n",
    "# Function to load and display JSON results\n",
    "def load_and_print_results(file_path):\n",
    "    if os.path.exists(file_path):\n",
    "        # Read the file\n",
    "        with open(file_path) as f:\n",
    "            # Read each line and decode it as a separate JSON object\n",
    "            for line in f:\n",
    "                try:\n",
    "                    data = json.loads(line)\n",
    "                    print(data)\n",
    "                except json.JSONDecodeError as e:\n",
    "                    print(f\"Error decoding JSON: {e}\")\n",
    "                    \n",
    "    else:\n",
    "        print(f\"No results found at {file_path}\")\n",
    "\n",
    "# Function to run a command and print output\n",
    "def run_command(command):\n",
    "    result = subprocess.run(command, shell=True, capture_output=True, text=True)\n",
    "    print(result.stdout)\n",
    "    if result.stderr:\n",
    "        print(result.stderr)\n"
   ]
  },
  {
   "cell_type": "markdown",
   "metadata": {},
   "source": [
    "# Zero-shot cross-modal retrieval"
   ]
  },
  {
   "cell_type": "code",
   "execution_count": 2,
   "metadata": {},
   "outputs": [
    {
     "name": "stdout",
     "output_type": "stream",
     "text": [
      "\n"
     ]
    }
   ],
   "source": [
    "command = (\n",
    "    \"python3 -m clip_benchmark.cli eval --pretrained_model models.txt \"\n",
    "    \"--dataset 'pathmmu_retrieval' \"\n",
    "    \"--task 'zeroshot_retrieval' \"\n",
    "    \"--batch_size 128 \"\n",
    "    \"--num_workers 16 \"\n",
    "    \"--seed 42 \"\n",
    "    \"--recall_k 1 10 50 \"\n",
    "    \"--dataset_root '/mnt/radonc-li01/private/xiangjx/data/downstreams_demo' \"\n",
    "    \"--output './results/benchmark_mm_retrieval.json' > /dev/null 2>&1\"\n",
    ")\n",
    "run_command(command)\n"
   ]
  },
  {
   "cell_type": "code",
   "execution_count": 3,
   "metadata": {},
   "outputs": [
    {
     "name": "stdout",
     "output_type": "stream",
     "text": [
      "{'dataset': 'pathmmu_retrieval', 'model': 'conch', 'pretrained': '/mnt/radonc-li01/private/xiangjx/models/conch/conch.pt', 'task': 'zeroshot_retrieval', 'metrics': {'image_retrieval_recall@1': 0.019938256591558456, 'text_retrieval_recall@1': 0.022253666073083878, 'image_retrieval_recall@10': 0.10779521614313126, 'text_retrieval_recall@10': 0.12464625388383865, 'image_retrieval_recall@50': 0.2635708749294281, 'text_retrieval_recall@50': 0.27450475096702576}, 'language': 'en'}\n",
      "{'dataset': 'pathmmu_retrieval', 'model': 'musk_large_patch16_384', 'pretrained': '/mnt/radonc-li01/private/xiangjx/code/musk_v2/MUSK/musk/models/musk.pth', 'task': 'zeroshot_retrieval', 'metrics': {'image_retrieval_recall@1': 0.03087213821709156, 'text_retrieval_recall@1': 0.040648315101861954, 'image_retrieval_recall@10': 0.15731926262378693, 'text_retrieval_recall@10': 0.17661435902118683, 'image_retrieval_recall@50': 0.3395935297012329, 'text_retrieval_recall@50': 0.34435296058654785}, 'language': 'en'}\n"
     ]
    }
   ],
   "source": [
    "load_and_print_results('./results/benchmark_mm_retrieval.json')"
   ]
  },
  {
   "cell_type": "markdown",
   "metadata": {},
   "source": [
    "# Zero-shot classification"
   ]
  },
  {
   "cell_type": "code",
   "execution_count": 4,
   "metadata": {},
   "outputs": [
    {
     "name": "stdout",
     "output_type": "stream",
     "text": [
      "\n"
     ]
    }
   ],
   "source": [
    "command = (\n",
    "    \"python3 -m clip_benchmark.cli eval --pretrained_model models.txt \"\n",
    "    \"--dataset 'skin' 'pannuke' 'unitopatho' \"\n",
    "    \"--task 'zeroshot_classification' \"\n",
    "    \"--batch_size 256 \"\n",
    "    \"--dataset_root '/mnt/radonc-li01/private/xiangjx/data/downstreams_demo' \"\n",
    "    \"--output './results/zeroshot_cls.json' > /dev/null 2>&1\"\n",
    ")\n",
    "run_command(command)\n"
   ]
  },
  {
   "cell_type": "code",
   "execution_count": 5,
   "metadata": {},
   "outputs": [
    {
     "name": "stdout",
     "output_type": "stream",
     "text": [
      "{'dataset': 'skin', 'model': 'conch', 'pretrained': '/mnt/radonc-li01/private/xiangjx/models/conch/conch.pt', 'task': 'zeroshot_classification', 'metrics': {'balanced_acc': 0.2216787058303029}, 'language': 'en'}\n",
      "{'dataset': 'pannuke', 'model': 'conch', 'pretrained': '/mnt/radonc-li01/private/xiangjx/models/conch/conch.pt', 'task': 'zeroshot_classification', 'metrics': {'balanced_acc': 0.6468658593258796}, 'language': 'en'}\n",
      "{'dataset': 'unitopatho', 'model': 'conch', 'pretrained': '/mnt/radonc-li01/private/xiangjx/models/conch/conch.pt', 'task': 'zeroshot_classification', 'metrics': {'balanced_acc': 0.26888487123808447}, 'language': 'en'}\n",
      "{'dataset': 'skin', 'model': 'musk_large_patch16_384', 'pretrained': '/mnt/radonc-li01/private/xiangjx/code/musk_v2/MUSK/musk/models/musk.pth', 'task': 'zeroshot_classification', 'metrics': {'balanced_acc': 0.5878613953752625}, 'language': 'en'}\n",
      "{'dataset': 'pannuke', 'model': 'musk_large_patch16_384', 'pretrained': '/mnt/radonc-li01/private/xiangjx/code/musk_v2/MUSK/musk/models/musk.pth', 'task': 'zeroshot_classification', 'metrics': {'balanced_acc': 0.8069261820799505}, 'language': 'en'}\n",
      "{'dataset': 'unitopatho', 'model': 'musk_large_patch16_384', 'pretrained': '/mnt/radonc-li01/private/xiangjx/code/musk_v2/MUSK/musk/models/musk.pth', 'task': 'zeroshot_classification', 'metrics': {'balanced_acc': 0.37306207642323574}, 'language': 'en'}\n"
     ]
    }
   ],
   "source": [
    "load_and_print_results('./results/zeroshot_cls.json')"
   ]
  },
  {
   "cell_type": "markdown",
   "metadata": {},
   "source": [
    "# Zero-shot Image2Image Retrieval"
   ]
  },
  {
   "cell_type": "code",
   "execution_count": 6,
   "metadata": {},
   "outputs": [
    {
     "name": "stdout",
     "output_type": "stream",
     "text": [
      "\n"
     ]
    }
   ],
   "source": [
    "# image-to-image retrieval\n",
    "command = (\n",
    "    \"python3 -m clip_benchmark.cli eval --pretrained_model models.txt \"\n",
    "    \"--dataset 'unitopatho_retrieval' \"\n",
    "    \"--task 'image_retrieval' \"\n",
    "    \"--batch_size 256 \"\n",
    "    \"--num_workers 16 \"\n",
    "    \"--seed 41 \"\n",
    "    \"--dataset_root '/mnt/radonc-li01/private/xiangjx/data/downstreams_demo' \"\n",
    "    \"--output './results/image_retrieval.json' > /dev/null 2>&1\"\n",
    ")\n",
    "run_command(command)\n"
   ]
  },
  {
   "cell_type": "code",
   "execution_count": 7,
   "metadata": {},
   "outputs": [
    {
     "name": "stdout",
     "output_type": "stream",
     "text": [
      "{'dataset': 'unitopatho_retrieval', 'model': 'conch', 'pretrained': '/mnt/radonc-li01/private/xiangjx/models/conch/conch.pt', 'task': 'image_retrieval', 'metrics': {'acc_top1': 0.8366515040397644, 'acc_top3': 0.9357317686080933, 'acc_top5': 0.9615787863731384, 'mMv_top5': 0.8252415657043457}, 'language': 'en'}\n",
      "{'dataset': 'unitopatho_retrieval', 'model': 'musk_large_patch16_384', 'pretrained': '/mnt/radonc-li01/private/xiangjx/code/musk_v2/MUSK/musk/models/musk.pth', 'task': 'image_retrieval', 'metrics': {'acc_top1': 0.8963791131973267, 'acc_top3': 0.9643730521202087, 'acc_top5': 0.9790429472923279, 'mMv_top5': 0.8770520687103271}, 'language': 'en'}\n"
     ]
    }
   ],
   "source": [
    "load_and_print_results('./results/image_retrieval.json')"
   ]
  },
  {
   "cell_type": "markdown",
   "metadata": {},
   "source": [
    "# Few-shot classification\n",
    "\n",
    "It will take long time to extract features and run supervised cls."
   ]
  },
  {
   "cell_type": "code",
   "execution_count": null,
   "metadata": {},
   "outputs": [],
   "source": [
    "# Few-shot linear probe commands\n",
    "seed = 123\n",
    "k_shot = 10\n",
    "\n",
    "command = (\n",
    "    f\"python3 -m clip_benchmark.cli eval --pretrained_model models.txt \"\n",
    "    f\"--dataset  'skin' 'unitopatho' 'pannuke' \"\n",
    "    f\"--task 'linear_probe' \"\n",
    "    f\"--batch_size 256 \"\n",
    "    f\"--num_workers 16 \"\n",
    "    f\"--fewshot_k {k_shot} \"\n",
    "    f\"--seed {seed} \"\n",
    "    f\"--dataset_root '/mnt/radonc-li01/private/xiangjx/data/downstreams_demo' \"\n",
    "    f\"--output './results/benchmark_fs_{k_shot}shot_seed{seed}.json' > /dev/null 2>&1\"\n",
    ")\n",
    "\n",
    "run_command(command)\n"
   ]
  },
  {
   "cell_type": "code",
   "execution_count": null,
   "metadata": {},
   "outputs": [],
   "source": [
    "load_and_print_results(f'./results/benchmark_fs_{k_shot}shot_seed{seed}.json')"
   ]
  },
  {
   "cell_type": "markdown",
   "metadata": {},
   "source": [
    "# Linear probe classification\n",
    "\n",
    "It will take long time to extract features and run supervised cls."
   ]
  },
  {
   "cell_type": "code",
   "execution_count": null,
   "metadata": {},
   "outputs": [],
   "source": [
    "# Linear probe commands\n",
    "seed = 321\n",
    "\n",
    "command = (\n",
    "    f\"python3 -m clip_benchmark.cli eval --pretrained_model models.txt \"\n",
    "    f\"--dataset 'skin' 'unitopatho' 'pannuke' \"\n",
    "    f\"--task 'linear_probe' \"\n",
    "    f\"--batch_size 256 \"\n",
    "    f\"--num_workers 8 \"\n",
    "    f\"--fewshot_k -1 \"\n",
    "    f\"--seed {seed} \"\n",
    "    f\"--dataset_root '/mnt/radonc-li01/private/xiangjx/data/downstreams_demo' \"\n",
    "    f\"--output './results/linear_probe_{seed}.json' > /dev/null 2>&1\"\n",
    ")\n",
    "\n",
    "run_command(command)\n",
    "\n",
    "load_and_print_results(f'./results/linear_probe_{seed}.json')"
   ]
  },
  {
   "cell_type": "code",
   "execution_count": null,
   "metadata": {},
   "outputs": [],
   "source": []
  }
 ],
 "metadata": {
  "kernelspec": {
   "display_name": "musk",
   "language": "python",
   "name": "python3"
  },
  "language_info": {
   "codemirror_mode": {
    "name": "ipython",
    "version": 3
   },
   "file_extension": ".py",
   "mimetype": "text/x-python",
   "name": "python",
   "nbconvert_exporter": "python",
   "pygments_lexer": "ipython3",
   "version": "3.10.14"
  }
 },
 "nbformat": 4,
 "nbformat_minor": 2
}
